{
 "cells": [
  {
   "cell_type": "markdown",
   "metadata": {},
   "source": [
    "# Self-Driving Car Engineer Nanodegree\n",
    "\n",
    "## Deep Learning\n",
    "\n",
    "## Project: Build a Traffic Sign Recognition Classifier\n",
    "\n",
    "In this notebook, a template is provided for you to implement your functionality in stages, which is required to successfully complete this project. If additional code is required that cannot be included in the notebook, be sure that the Python code is successfully imported and included in your submission if necessary. \n",
    "\n",
    "> **Note**: Once you have completed all of the code implementations, you need to finalize your work by exporting the iPython Notebook as an HTML document. Before exporting the notebook to html, all of the code cells need to have been run so that reviewers can see the final implementation and output. You can then export the notebook by using the menu above and navigating to  \\n\",\n",
    "    \"**File -> Download as -> HTML (.html)**. Include the finished document along with this notebook as your submission. \n",
    "\n",
    "In addition to implementing code, there is a writeup to complete. The writeup should be completed in a separate file, which can be either a markdown file or a pdf document. There is a [write up template](https://github.com/udacity/CarND-Traffic-Sign-Classifier-Project/blob/master/writeup_template.md) that can be used to guide the writing process. Completing the code template and writeup template will cover all of the [rubric points](https://review.udacity.com/#!/rubrics/481/view) for this project.\n",
    "\n",
    "The [rubric](https://review.udacity.com/#!/rubrics/481/view) contains \"Stand Out Suggestions\" for enhancing the project beyond the minimum requirements. The stand out suggestions are optional. If you decide to pursue the \"stand out suggestions\", you can include the code in this Ipython notebook and also discuss the results in the writeup file.\n",
    "\n",
    "\n",
    ">**Note:** Code and Markdown cells can be executed using the **Shift + Enter** keyboard shortcut. In addition, Markdown cells can be edited by typically double-clicking the cell to enter edit mode."
   ]
  },
  {
   "cell_type": "markdown",
   "metadata": {},
   "source": [
    "---\n",
    "## Step 0: Load The Data"
   ]
  },
  {
   "cell_type": "code",
   "execution_count": 73,
   "metadata": {
    "collapsed": true
   },
   "outputs": [],
   "source": [
    "# Load pickled data\n",
    "import pickle\n",
    "import numpy as np\n",
    "import tensorflow as tf\n",
    "from tensorflow.contrib.layers import flatten\n",
    "from sklearn.utils import shuffle\n",
    "\n",
    "# TODO: Fill this in based on where you saved the training and testing data\n",
    "\n",
    "training_file = \"C:\\\\Users\\\\sagar\\\\Projects\\\\traffic-signs-data\\\\train.p\"\n",
    "validation_file= \"C:\\\\Users\\\\sagar\\\\Projects\\\\traffic-signs-data\\\\valid.p\"\n",
    "testing_file = \"C:\\\\Users\\\\sagar\\\\Projects\\\\traffic-signs-data\\\\test.p\"\n",
    "\n",
    "with open(training_file, mode='rb') as f:\n",
    "    train = pickle.load(f)\n",
    "with open(validation_file, mode='rb') as f:\n",
    "    valid = pickle.load(f)\n",
    "with open(testing_file, mode='rb') as f:\n",
    "    test = pickle.load(f)\n",
    "    \n",
    "X_train, y_train = train['features'], train['labels']\n",
    "X_valid, y_valid = valid['features'], valid['labels']\n",
    "X_test, y_test = test['features'], test['labels']"
   ]
  },
  {
   "cell_type": "markdown",
   "metadata": {},
   "source": [
    "---\n",
    "\n",
    "## Step 1: Dataset Summary & Exploration\n",
    "\n",
    "The pickled data is a dictionary with 4 key/value pairs:\n",
    "\n",
    "- `'features'` is a 4D array containing raw pixel data of the traffic sign images, (num examples, width, height, channels).\n",
    "- `'labels'` is a 1D array containing the label/class id of the traffic sign. The file `signnames.csv` contains id -> name mappings for each id.\n",
    "- `'sizes'` is a list containing tuples, (width, height) representing the original width and height the image.\n",
    "- `'coords'` is a list containing tuples, (x1, y1, x2, y2) representing coordinates of a bounding box around the sign in the image. **THESE COORDINATES ASSUME THE ORIGINAL IMAGE. THE PICKLED DATA CONTAINS RESIZED VERSIONS (32 by 32) OF THESE IMAGES**\n",
    "\n",
    "Complete the basic data summary below. Use python, numpy and/or pandas methods to calculate the data summary rather than hard coding the results. For example, the [pandas shape method](http://pandas.pydata.org/pandas-docs/stable/generated/pandas.DataFrame.shape.html) might be useful for calculating some of the summary results. "
   ]
  },
  {
   "cell_type": "markdown",
   "metadata": {},
   "source": [
    "### Provide a Basic Summary of the Data Set Using Python, Numpy and/or Pandas"
   ]
  },
  {
   "cell_type": "code",
   "execution_count": 74,
   "metadata": {},
   "outputs": [
    {
     "name": "stdout",
     "output_type": "stream",
     "text": [
      "Number of training examples = 34799\n",
      "Number of validation examples = 4410\n",
      "Number of testing examples = 12630\n",
      "Image data shape = (32, 32)\n",
      "Number of classes = 43\n"
     ]
    }
   ],
   "source": [
    "### Replace each question mark with the appropriate value. \n",
    "### Use python, pandas or numpy methods rather than hard coding the results\n",
    "\n",
    "# TODO: Number of training examples\n",
    "n_train = y_train.shape[0]\n",
    "\n",
    "# TODO: Number of validation examples\n",
    "n_validation = y_valid.shape[0]\n",
    "\n",
    "# TODO: Number of testing examples.\n",
    "n_test = y_test.shape[0]\n",
    "\n",
    "# TODO: What's the shape of an traffic sign image?\n",
    "image_shape = X_train.shape[1:3]\n",
    "\n",
    "# TODO: How many unique classes/labels there are in the dataset.\n",
    "n_classes = np.unique(y_train).shape[0]\n",
    "\n",
    "print(\"Number of training examples =\", n_train)\n",
    "print(\"Number of validation examples =\", n_validation)\n",
    "print(\"Number of testing examples =\", n_test)\n",
    "print(\"Image data shape =\", image_shape)\n",
    "print(\"Number of classes =\", n_classes)"
   ]
  },
  {
   "cell_type": "markdown",
   "metadata": {},
   "source": [
    "### Include an exploratory visualization of the dataset"
   ]
  },
  {
   "cell_type": "markdown",
   "metadata": {},
   "source": [
    "Visualize the German Traffic Signs Dataset using the pickled file(s). This is open ended, suggestions include: plotting traffic sign images, plotting the count of each sign, etc. \n",
    "\n",
    "The [Matplotlib](http://matplotlib.org/) [examples](http://matplotlib.org/examples/index.html) and [gallery](http://matplotlib.org/gallery.html) pages are a great resource for doing visualizations in Python.\n",
    "\n",
    "**NOTE:** It's recommended you start with something simple first. If you wish to do more, come back to it after you've completed the rest of the sections. It can be interesting to look at the distribution of classes in the training, validation and test set. Is the distribution the same? Are there more examples of some classes than others?"
   ]
  },
  {
   "cell_type": "code",
   "execution_count": 75,
   "metadata": {},
   "outputs": [
    {
     "data": {
      "image/png": "[encoded data removed]",
      "text/plain": [
       "<matplotlib.figure.Figure at 0x2b28a8bc080>"
      ]
     },
     "metadata": {},
     "output_type": "display_data"
    },
    {
     "name": "stdout",
     "output_type": "stream",
     "text": [
      " Above image class: 31\n"
     ]
    },
    {
     "data": {
      "image/png": "[encoded data removed]",
      "text/plain": [
       "<matplotlib.figure.Figure at 0x2b286131748>"
      ]
     },
     "metadata": {},
     "output_type": "display_data"
    }
   ],
   "source": [
    "### Data exploration visualization code goes here.\n",
    "### Feel free to use as many code cells as needed.\n",
    "import matplotlib.pyplot as plt\n",
    "# Visualizations will be shown in the notebook.\n",
    "%matplotlib inline\n",
    "\n",
    "vis = 300\n",
    "plt.imshow(X_train[vis])\n",
    "plt.show()\n",
    "print(\" Above image class: \"+str(y_train[vis]))\n",
    "classes, count = np.unique(y_train,return_counts=\"true\")\n",
    "tot_class_counts = dict(zip(classes, count))\n",
    "y = []\n",
    "for key, value in tot_class_counts.items():\n",
    "    y.append(value)\n",
    "x = range(43)\n",
    "width = 1/2\n",
    "plt.xlabel(\"Classes\")\n",
    "plt.ylabel(\"# of training examples\")\n",
    "plt.bar(x, y, width, color=\"blue\")\n",
    "plt.show()"
   ]
  },
  {
   "cell_type": "markdown",
   "metadata": {},
   "source": [
    "----\n",
    "\n",
    "## Step 2: Design and Test a Model Architecture\n",
    "\n",
    "Design and implement a deep learning model that learns to recognize traffic signs. Train and test your model on the [German Traffic Sign Dataset](http://benchmark.ini.rub.de/?section=gtsrb&subsection=dataset).\n",
    "\n",
    "The LeNet-5 implementation shown in the [classroom](https://classroom.udacity.com/nanodegrees/nd013/parts/fbf77062-5703-404e-b60c-95b78b2f3f9e/modules/6df7ae49-c61c-4bb2-a23e-6527e69209ec/lessons/601ae704-1035-4287-8b11-e2c2716217ad/concepts/d4aca031-508f-4e0b-b493-e7b706120f81) at the end of the CNN lesson is a solid starting point. You'll have to change the number of classes and possibly the preprocessing, but aside from that it's plug and play! \n",
    "\n",
    "With the LeNet-5 solution from the lecture, you should expect a validation set accuracy of about 0.89. To meet specifications, the validation set accuracy will need to be at least 0.93. It is possible to get an even higher accuracy, but 0.93 is the minimum for a successful project submission. \n",
    "\n",
    "There are various aspects to consider when thinking about this problem:\n",
    "\n",
    "- Neural network architecture (is the network over or underfitting?)\n",
    "- Play around preprocessing techniques (normalization, rgb to grayscale, etc)\n",
    "- Number of examples per label (some have more than others).\n",
    "- Generate fake data.\n",
    "\n",
    "Here is an example of a [published baseline model on this problem](http://yann.lecun.com/exdb/publis/pdf/sermanet-ijcnn-11.pdf). It's not required to be familiar with the approach used in the paper but, it's good practice to try to read papers like these."
   ]
  },
  {
   "cell_type": "markdown",
   "metadata": {},
   "source": [
    "### Pre-process the Data Set (normalization, grayscale, etc.)"
   ]
  },
  {
   "cell_type": "markdown",
   "metadata": {},
   "source": [
    "Minimally, the image data should be normalized so that the data has mean zero and equal variance. For image data, `(pixel - 128)/ 128` is a quick way to approximately normalize the data and can be used in this project. \n",
    "\n",
    "Other pre-processing steps are optional. You can try different techniques to see if it improves performance. \n",
    "\n",
    "Use the code cell (or multiple code cells, if necessary) to implement the first step of your project."
   ]
  },
  {
   "cell_type": "code",
   "execution_count": 70,
   "metadata": {},
   "outputs": [
    {
     "data": {
      "image/png": "[encoded data removed]",
      "text/plain": [
       "<matplotlib.figure.Figure at 0x2b2978b5588>"
      ]
     },
     "metadata": {},
     "output_type": "display_data"
    }
   ],
   "source": [
    "### Preprocess the data here. It is required to normalize the data. Other preprocessing steps could include \n",
    "### converting to grayscale, etc.\n",
    "### Feel free to use as many code cells as needed.\n",
    "# def preProcess(n_X):\n",
    "#     t_X = np.subtract(n_X, 128)\n",
    "#     t_X = np.divide(t_X, 128)\n",
    "#     return t_X\n",
    "\n",
    "# X_train = preProcess(X_train)\n",
    "# X_valid = preProcess(X_valid)\n",
    "# X_test = preProcess(X_test)\n",
    "\n",
    "# vis = 300\n",
    "# plt.imshow(X_train[vis])\n",
    "# plt.show()"
   ]
  },
  {
   "cell_type": "markdown",
   "metadata": {},
   "source": [
    "### Model Architecture"
   ]
  },
  {
   "cell_type": "code",
   "execution_count": 76,
   "metadata": {
    "collapsed": true
   },
   "outputs": [],
   "source": [
    "### Define your architecture here.\n",
    "### Feel free to use as many code cells as needed.\n",
    "\n",
    "def LeNet(x):\n",
    "    mean = 0\n",
    "    deviation = 0.1\n",
    "    \n",
    "    conv1_W = tf.Variable(tf.truncated_normal(shape=(5,5,3,16),mean=mean, stddev = deviation))\n",
    "    conv1_b = tf.Variable(tf.zeros(16))\n",
    "    conv1 = tf.nn.conv2d(x, conv1_W, strides=[1,1,1,1], padding='VALID') + conv1_b\n",
    "    \n",
    "    conv1 = tf.nn.relu(conv1)\n",
    "    \n",
    "    conv1 = tf.nn.max_pool(conv1, ksize=[1,2,2,1], strides=[1,2,2,1], padding='VALID')\n",
    "    \n",
    "    conv2_W = tf.Variable(tf.truncated_normal(shape=(3,3,16,16), mean=mean, stddev = deviation))\n",
    "    conv2_b = tf.Variable(tf.zeros(16))\n",
    "    conv2 = tf.nn.conv2d(conv1, conv2_W, strides=[1,1,1,1], padding='VALID') + conv2_b\n",
    "    \n",
    "    conv2 = tf.nn.relu(conv2)\n",
    "    \n",
    "    conv2 = tf.nn.max_pool(conv2, ksize=[1,2,2,1], strides=[1,2,2,1], padding='VALID')\n",
    "    \n",
    "    fc0 = flatten(conv2)\n",
    "    \n",
    "    fc1_W = tf.Variable(tf.truncated_normal(shape=(576,120), mean=mean, stddev=deviation))\n",
    "    fc1_b = tf.Variable(tf.zeros(120))\n",
    "    fc1 = tf.matmul(fc0,fc1_W) + fc1_b\n",
    "    \n",
    "    fc1 = tf.nn.relu(fc1)\n",
    "    \n",
    "    fc2_W = tf.Variable(tf.truncated_normal(shape=(120,84), mean=mean, stddev=deviation))\n",
    "    fc2_b = tf.Variable(tf.zeros(84))\n",
    "    fc2 = tf.matmul(fc1,fc2_W) + fc2_b\n",
    "    \n",
    "    fc2 = tf.nn.relu(fc2)\n",
    "    \n",
    "    fc3_W = tf.Variable(tf.truncated_normal(shape=(84,43), mean=mean, stddev=deviation))\n",
    "    fc3_b = tf.Variable(tf.zeros(43))\n",
    "    logits = tf.matmul(fc2,fc3_W) + fc3_b\n",
    "    \n",
    "    return logits\n",
    "\n",
    "EPOCHS = 100\n",
    "BATCH_SIZE = 128\n",
    "\n",
    "x = tf.placeholder(tf.float32,(None, 32,32,3))\n",
    "y = tf.placeholder(tf.int32,(None))\n",
    "one_hot_y = tf.one_hot(y, 43)\n",
    "rate = 0.0005\n",
    "\n",
    "logits = LeNet(x)\n",
    "cross_entropy = tf.nn.softmax_cross_entropy_with_logits(logits = logits, labels = one_hot_y)\n",
    "loss_operation = tf.reduce_mean(cross_entropy)\n",
    "optimizer = tf.train.AdamOptimizer(learning_rate = rate)\n",
    "training_operation = optimizer.minimize(loss_operation)\n",
    "\n",
    "    "
   ]
  },
  {
   "cell_type": "markdown",
   "metadata": {},
   "source": [
    "### Train, Validate and Test the Model"
   ]
  },
  {
   "cell_type": "markdown",
   "metadata": {},
   "source": [
    "A validation set can be used to assess how well the model is performing. A low accuracy on the training and validation\n",
    "sets imply underfitting. A high accuracy on the training set but low accuracy on the validation set implies overfitting."
   ]
  },
  {
   "cell_type": "code",
   "execution_count": 77,
   "metadata": {},
   "outputs": [
    {
     "name": "stdout",
     "output_type": "stream",
     "text": [
      "Training ....\n",
      "\n",
      "EPOCH 1 ...\n",
      "Train accuracy = 0.471\n",
      "Validation accuracy = 0.410\n",
      "\n",
      "EPOCH 2 ...\n",
      "Train accuracy = 0.726\n",
      "Validation accuracy = 0.608\n",
      "\n",
      "EPOCH 3 ...\n",
      "Train accuracy = 0.867\n",
      "Validation accuracy = 0.724\n",
      "\n",
      "EPOCH 4 ...\n",
      "Train accuracy = 0.909\n",
      "Validation accuracy = 0.750\n",
      "\n",
      "EPOCH 5 ...\n",
      "Train accuracy = 0.935\n",
      "Validation accuracy = 0.787\n",
      "\n",
      "EPOCH 6 ...\n",
      "Train accuracy = 0.952\n",
      "Validation accuracy = 0.780\n",
      "\n",
      "EPOCH 7 ...\n",
      "Train accuracy = 0.968\n",
      "Validation accuracy = 0.822\n",
      "\n",
      "EPOCH 8 ...\n",
      "Train accuracy = 0.975\n",
      "Validation accuracy = 0.816\n",
      "\n",
      "EPOCH 9 ...\n",
      "Train accuracy = 0.972\n",
      "Validation accuracy = 0.825\n",
      "\n",
      "EPOCH 10 ...\n",
      "Train accuracy = 0.987\n",
      "Validation accuracy = 0.840\n",
      "\n",
      "EPOCH 11 ...\n",
      "Train accuracy = 0.983\n",
      "Validation accuracy = 0.836\n",
      "\n",
      "EPOCH 12 ...\n",
      "Train accuracy = 0.984\n",
      "Validation accuracy = 0.846\n",
      "\n",
      "EPOCH 13 ...\n",
      "Train accuracy = 0.981\n",
      "Validation accuracy = 0.834\n",
      "\n",
      "EPOCH 14 ...\n",
      "Train accuracy = 0.989\n",
      "Validation accuracy = 0.845\n",
      "\n",
      "EPOCH 15 ...\n",
      "Train accuracy = 0.993\n",
      "Validation accuracy = 0.849\n",
      "\n",
      "EPOCH 16 ...\n",
      "Train accuracy = 0.995\n",
      "Validation accuracy = 0.863\n",
      "\n",
      "EPOCH 17 ...\n",
      "Train accuracy = 0.990\n",
      "Validation accuracy = 0.854\n",
      "\n",
      "EPOCH 18 ...\n",
      "Train accuracy = 0.990\n",
      "Validation accuracy = 0.849\n",
      "\n",
      "EPOCH 19 ...\n",
      "Train accuracy = 0.982\n",
      "Validation accuracy = 0.851\n",
      "\n",
      "EPOCH 20 ...\n",
      "Train accuracy = 0.992\n",
      "Validation accuracy = 0.864\n",
      "\n",
      "EPOCH 21 ...\n",
      "Train accuracy = 0.991\n",
      "Validation accuracy = 0.854\n",
      "\n",
      "EPOCH 22 ...\n",
      "Train accuracy = 0.996\n",
      "Validation accuracy = 0.876\n",
      "\n",
      "EPOCH 23 ...\n",
      "Train accuracy = 0.992\n",
      "Validation accuracy = 0.880\n",
      "\n",
      "EPOCH 24 ...\n",
      "Train accuracy = 0.995\n",
      "Validation accuracy = 0.879\n",
      "\n",
      "EPOCH 25 ...\n",
      "Train accuracy = 0.994\n",
      "Validation accuracy = 0.867\n",
      "\n",
      "EPOCH 26 ...\n",
      "Train accuracy = 0.996\n",
      "Validation accuracy = 0.873\n",
      "\n",
      "EPOCH 27 ...\n",
      "Train accuracy = 0.999\n",
      "Validation accuracy = 0.888\n",
      "\n",
      "EPOCH 28 ...\n",
      "Train accuracy = 0.986\n",
      "Validation accuracy = 0.873\n",
      "\n",
      "EPOCH 29 ...\n",
      "Train accuracy = 0.989\n",
      "Validation accuracy = 0.870\n",
      "\n",
      "EPOCH 30 ...\n",
      "Train accuracy = 0.996\n",
      "Validation accuracy = 0.889\n",
      "\n",
      "EPOCH 31 ...\n",
      "Train accuracy = 0.992\n",
      "Validation accuracy = 0.869\n",
      "\n",
      "EPOCH 32 ...\n",
      "Train accuracy = 0.997\n",
      "Validation accuracy = 0.884\n",
      "\n",
      "EPOCH 33 ...\n",
      "Train accuracy = 0.996\n",
      "Validation accuracy = 0.887\n",
      "\n",
      "EPOCH 34 ...\n",
      "Train accuracy = 0.996\n",
      "Validation accuracy = 0.902\n",
      "\n",
      "EPOCH 35 ...\n",
      "Train accuracy = 0.995\n",
      "Validation accuracy = 0.889\n",
      "\n",
      "EPOCH 36 ...\n",
      "Train accuracy = 0.999\n",
      "Validation accuracy = 0.903\n",
      "\n",
      "EPOCH 37 ...\n",
      "Train accuracy = 0.999\n",
      "Validation accuracy = 0.895\n",
      "\n",
      "EPOCH 38 ...\n",
      "Train accuracy = 0.991\n",
      "Validation accuracy = 0.879\n",
      "\n",
      "EPOCH 39 ...\n",
      "Train accuracy = 0.998\n",
      "Validation accuracy = 0.889\n",
      "\n",
      "EPOCH 40 ...\n",
      "Train accuracy = 0.982\n",
      "Validation accuracy = 0.865\n",
      "\n",
      "EPOCH 41 ...\n",
      "Train accuracy = 0.988\n",
      "Validation accuracy = 0.896\n",
      "\n",
      "EPOCH 42 ...\n",
      "Train accuracy = 0.996\n",
      "Validation accuracy = 0.904\n",
      "\n",
      "EPOCH 43 ...\n",
      "Train accuracy = 0.998\n",
      "Validation accuracy = 0.905\n",
      "\n",
      "EPOCH 44 ...\n",
      "Train accuracy = 0.998\n",
      "Validation accuracy = 0.892\n",
      "\n",
      "EPOCH 45 ...\n",
      "Train accuracy = 0.996\n",
      "Validation accuracy = 0.897\n",
      "\n",
      "EPOCH 46 ...\n",
      "Train accuracy = 0.997\n",
      "Validation accuracy = 0.895\n",
      "\n",
      "EPOCH 47 ...\n",
      "Train accuracy = 0.997\n",
      "Validation accuracy = 0.908\n",
      "\n",
      "EPOCH 48 ...\n",
      "Train accuracy = 0.999\n",
      "Validation accuracy = 0.908\n",
      "\n",
      "EPOCH 49 ...\n",
      "Train accuracy = 0.998\n",
      "Validation accuracy = 0.900\n",
      "\n",
      "EPOCH 50 ...\n",
      "Train accuracy = 0.998\n",
      "Validation accuracy = 0.902\n",
      "\n",
      "EPOCH 51 ...\n",
      "Train accuracy = 0.996\n",
      "Validation accuracy = 0.917\n",
      "\n",
      "EPOCH 52 ...\n",
      "Train accuracy = 0.995\n",
      "Validation accuracy = 0.880\n",
      "\n",
      "EPOCH 53 ...\n",
      "Train accuracy = 0.991\n",
      "Validation accuracy = 0.893\n",
      "\n",
      "EPOCH 54 ...\n",
      "Train accuracy = 0.999\n",
      "Validation accuracy = 0.902\n",
      "\n",
      "EPOCH 55 ...\n",
      "Train accuracy = 0.998\n",
      "Validation accuracy = 0.902\n",
      "\n",
      "EPOCH 56 ...\n",
      "Train accuracy = 0.999\n",
      "Validation accuracy = 0.910\n",
      "\n",
      "EPOCH 57 ...\n",
      "Train accuracy = 0.995\n",
      "Validation accuracy = 0.905\n",
      "\n",
      "EPOCH 58 ...\n",
      "Train accuracy = 1.000\n",
      "Validation accuracy = 0.910\n",
      "\n",
      "EPOCH 59 ...\n",
      "Train accuracy = 0.993\n",
      "Validation accuracy = 0.901\n",
      "\n",
      "EPOCH 60 ...\n",
      "Train accuracy = 0.999\n",
      "Validation accuracy = 0.914\n",
      "\n",
      "EPOCH 61 ...\n",
      "Train accuracy = 0.998\n",
      "Validation accuracy = 0.912\n",
      "\n",
      "EPOCH 62 ...\n",
      "Train accuracy = 0.994\n",
      "Validation accuracy = 0.902\n",
      "\n",
      "EPOCH 63 ...\n",
      "Train accuracy = 0.997\n",
      "Validation accuracy = 0.899\n",
      "\n",
      "EPOCH 64 ...\n",
      "Train accuracy = 0.993\n",
      "Validation accuracy = 0.897\n",
      "\n",
      "EPOCH 65 ...\n",
      "Train accuracy = 0.998\n",
      "Validation accuracy = 0.916\n",
      "\n",
      "EPOCH 66 ...\n",
      "Train accuracy = 0.998\n",
      "Validation accuracy = 0.907\n",
      "\n",
      "EPOCH 67 ...\n",
      "Train accuracy = 0.999\n",
      "Validation accuracy = 0.910\n",
      "\n",
      "EPOCH 68 ...\n",
      "Train accuracy = 0.997\n",
      "Validation accuracy = 0.908\n",
      "\n",
      "EPOCH 69 ...\n",
      "Train accuracy = 0.992\n",
      "Validation accuracy = 0.907\n",
      "\n",
      "EPOCH 70 ...\n",
      "Train accuracy = 0.995\n",
      "Validation accuracy = 0.910\n",
      "\n",
      "EPOCH 71 ...\n",
      "Train accuracy = 0.997\n",
      "Validation accuracy = 0.927\n",
      "\n",
      "EPOCH 72 ...\n",
      "Train accuracy = 0.997\n",
      "Validation accuracy = 0.922\n",
      "\n",
      "EPOCH 73 ...\n",
      "Train accuracy = 0.987\n",
      "Validation accuracy = 0.902\n",
      "\n",
      "EPOCH 74 ...\n",
      "Train accuracy = 0.999\n",
      "Validation accuracy = 0.934\n",
      "\n",
      "EPOCH 75 ...\n",
      "Train accuracy = 0.998\n",
      "Validation accuracy = 0.913\n",
      "\n",
      "EPOCH 76 ...\n",
      "Train accuracy = 0.996\n",
      "Validation accuracy = 0.918\n",
      "\n",
      "EPOCH 77 ...\n",
      "Train accuracy = 0.999\n",
      "Validation accuracy = 0.926\n",
      "\n",
      "EPOCH 78 ...\n",
      "Train accuracy = 0.997\n",
      "Validation accuracy = 0.903\n",
      "\n",
      "EPOCH 79 ...\n",
      "Train accuracy = 0.998\n",
      "Validation accuracy = 0.915\n",
      "\n",
      "EPOCH 80 ...\n",
      "Train accuracy = 0.999\n",
      "Validation accuracy = 0.926\n",
      "\n",
      "EPOCH 81 ...\n",
      "Train accuracy = 0.999\n",
      "Validation accuracy = 0.923\n",
      "\n",
      "EPOCH 82 ...\n",
      "Train accuracy = 0.998\n",
      "Validation accuracy = 0.910\n",
      "\n",
      "EPOCH 83 ...\n",
      "Train accuracy = 0.999\n",
      "Validation accuracy = 0.922\n",
      "\n",
      "EPOCH 84 ...\n",
      "Train accuracy = 0.991\n",
      "Validation accuracy = 0.916\n",
      "\n",
      "EPOCH 85 ...\n",
      "Train accuracy = 0.999\n",
      "Validation accuracy = 0.930\n",
      "\n",
      "EPOCH 86 ...\n",
      "Train accuracy = 0.990\n",
      "Validation accuracy = 0.893\n",
      "\n",
      "EPOCH 87 ...\n",
      "Train accuracy = 1.000\n",
      "Validation accuracy = 0.917\n",
      "\n",
      "EPOCH 88 ...\n",
      "Train accuracy = 0.999\n",
      "Validation accuracy = 0.927\n",
      "\n",
      "EPOCH 89 ...\n",
      "Train accuracy = 0.997\n",
      "Validation accuracy = 0.922\n",
      "\n",
      "EPOCH 90 ...\n",
      "Train accuracy = 1.000\n",
      "Validation accuracy = 0.923\n",
      "\n",
      "EPOCH 91 ...\n",
      "Train accuracy = 0.985\n",
      "Validation accuracy = 0.884\n",
      "\n",
      "EPOCH 92 ...\n",
      "Train accuracy = 0.998\n",
      "Validation accuracy = 0.921\n",
      "\n",
      "EPOCH 93 ...\n",
      "Train accuracy = 0.999\n",
      "Validation accuracy = 0.928\n",
      "\n",
      "EPOCH 94 ...\n",
      "Train accuracy = 1.000\n",
      "Validation accuracy = 0.937\n",
      "\n",
      "EPOCH 95 ...\n",
      "Train accuracy = 1.000\n",
      "Validation accuracy = 0.936\n",
      "\n",
      "EPOCH 96 ...\n",
      "Train accuracy = 1.000\n",
      "Validation accuracy = 0.936\n",
      "\n",
      "EPOCH 97 ...\n",
      "Train accuracy = 1.000\n",
      "Validation accuracy = 0.936\n",
      "\n",
      "EPOCH 98 ...\n",
      "Train accuracy = 1.000\n",
      "Validation accuracy = 0.936\n",
      "\n",
      "EPOCH 99 ...\n",
      "Train accuracy = 1.000\n",
      "Validation accuracy = 0.935\n",
      "\n",
      "EPOCH 100 ...\n",
      "Train accuracy = 1.000\n",
      "Validation accuracy = 0.935\n",
      "\n",
      "Model saved\n"
     ]
    }
   ],
   "source": [
    "### Train your model here.\n",
    "### Calculate and report the accuracy on the training and validation set.\n",
    "### Once a final model architecture is selected, \n",
    "### the accuracy on the test set should be calculated and reported as well.\n",
    "### Feel free to use as many code cells as needed.\n",
    "\n",
    "correct_prediction = tf.equal(tf.argmax(logits, 1), tf.argmax(one_hot_y, 1))\n",
    "accuracy_operation = tf.reduce_mean(tf.cast(correct_prediction, tf.float32))\n",
    "saver = tf.train.Saver()\n",
    "\n",
    "def evaluate(X_data, y_data):\n",
    "    num_examples = len(X_data)\n",
    "    total_accuracy = 0\n",
    "    sess = tf.get_default_session()\n",
    "    for offset in range(0, num_examples, BATCH_SIZE):\n",
    "        batch_x, batch_y = X_data[offset:offset+BATCH_SIZE], y_data[offset:offset+BATCH_SIZE]\n",
    "        accuracy = sess.run(accuracy_operation, feed_dict={x: batch_x, y: batch_y})\n",
    "        total_accuracy += (accuracy * len(batch_x))\n",
    "    return total_accuracy / num_examples\n",
    "\n",
    "with tf.Session() as sess:\n",
    "    sess.run(tf.global_variables_initializer())\n",
    "    num_examples = len(X_train)\n",
    "    \n",
    "    print(\"Training ....\\n\")\n",
    "    for i in range(EPOCHS):\n",
    "        X_train, y_train = shuffle(X_train, y_train)\n",
    "        for offset in range(0, num_examples, BATCH_SIZE):\n",
    "            end = offset + BATCH_SIZE\n",
    "            batch_x, batch_y = X_train[offset:end], y_train[offset:end]\n",
    "            sess.run(training_operation, feed_dict={x: batch_x, y: batch_y})\n",
    "        \n",
    "        train_accuracy = evaluate(X_train, y_train)\n",
    "        validation_accuracy = evaluate(X_valid, y_valid)\n",
    "        print(\"EPOCH {} ...\".format(i+1))\n",
    "        print(\"Train accuracy = {:.3f}\".format(train_accuracy))\n",
    "        print(\"Validation accuracy = {:.3f}\".format(validation_accuracy))\n",
    "        print()\n",
    "        \n",
    "    saver.save(sess, './lenet')\n",
    "    print(\"Model saved\")\n"
   ]
  },
  {
   "cell_type": "markdown",
   "metadata": {},
   "source": [
    "---\n",
    "\n",
    "## Step 3: Test a Model on New Images\n",
    "\n",
    "To give yourself more insight into how your model is working, download at least five pictures of German traffic signs from the web and use your model to predict the traffic sign type.\n",
    "\n",
    "You may find `signnames.csv` useful as it contains mappings from the class id (integer) to the actual sign name."
   ]
  },
  {
   "cell_type": "code",
   "execution_count": 78,
   "metadata": {},
   "outputs": [
    {
     "name": "stdout",
     "output_type": "stream",
     "text": [
      "Train accuracy: 1.000 \n",
      "Validation accuracy: 0.935 \n",
      "Test accuracy: 0.918 \n"
     ]
    }
   ],
   "source": [
    "with tf.Session() as sess:\n",
    "    saver.restore(sess, tf.train.latest_checkpoint('./'))\n",
    "    train_accuracy = evaluate(X_train, y_train)\n",
    "    print(\"Train accuracy: {:.3f} \".format(train_accuracy))\n",
    "    valid_accuracy = evaluate(X_valid, y_valid)\n",
    "    print(\"Validation accuracy: {:.3f} \".format(valid_accuracy))\n",
    "    test_accuracy = evaluate(X_test, y_test)\n",
    "    print(\"Test accuracy: {:.3f} \".format(test_accuracy))"
   ]
  },
  {
   "cell_type": "markdown",
   "metadata": {},
   "source": [
    "### Load and Output the Images"
   ]
  },
  {
   "cell_type": "code",
   "execution_count": 79,
   "metadata": {},
   "outputs": [
    {
     "data": {
      "image/png": "[encoded data removed]",
      "text/plain": [
       "<matplotlib.figure.Figure at 0x2b28c312c18>"
      ]
     },
     "metadata": {},
     "output_type": "display_data"
    },
    {
     "data": {
      "image/png": "[encoded data removed]",
      "text/plain": [
       "<matplotlib.figure.Figure at 0x2b28c381c18>"
      ]
     },
     "metadata": {},
     "output_type": "display_data"
    },
    {
     "data": {
      "image/png": "[encoded data removed]",
      "text/plain": [
       "<matplotlib.figure.Figure at 0x2b28b0380f0>"
      ]
     },
     "metadata": {},
     "output_type": "display_data"
    },
    {
     "data": {
      "image/png": "[encoded data removed]",
      "text/plain": [
       "<matplotlib.figure.Figure at 0x2b28c3bdbe0>"
      ]
     },
     "metadata": {},
     "output_type": "display_data"
    },
    {
     "data": {
      "image/png": "[encoded data removed]",
      "text/plain": [
       "<matplotlib.figure.Figure at 0x2b28b06ce80>"
      ]
     },
     "metadata": {},
     "output_type": "display_data"
    },
    {
     "data": {
      "image/png": "[encoded data removed]",
      "text/plain": [
       "<matplotlib.figure.Figure at 0x2b28afeaef0>"
      ]
     },
     "metadata": {},
     "output_type": "display_data"
    }
   ],
   "source": [
    "### Load the images and plot them here.\n",
    "### Feel free to use as many code cells as needed.\n",
    "import matplotlib.image as mpimg\n",
    "ground_truth = []\n",
    "image = mpimg.imread('C:\\\\Users\\\\sagar\\\\Desktop\\\\web\\\\60.jpg')\n",
    "plt.imshow(image)\n",
    "plt.show()\n",
    "ground_truth.append([3, image])\n",
    "image = mpimg.imread('C:\\\\Users\\\\sagar\\\\Desktop\\\\web\\\\60_2.jpg')\n",
    "plt.imshow(image)\n",
    "plt.show()\n",
    "ground_truth.append([3, image])\n",
    "image = mpimg.imread('C:\\\\Users\\\\sagar\\\\Desktop\\\\web\\\\70.jpg')\n",
    "plt.imshow(image)\n",
    "plt.show()\n",
    "ground_truth.append([4, image])\n",
    "image = mpimg.imread('C:\\\\Users\\\\sagar\\\\Desktop\\\\web\\\\noentry.jpg')\n",
    "plt.imshow(image)\n",
    "plt.show()\n",
    "ground_truth.append([17, image])\n",
    "image = mpimg.imread('C:\\\\Users\\\\sagar\\\\Desktop\\\\web\\\\stop.jpg')\n",
    "plt.imshow(image)\n",
    "plt.show()\n",
    "ground_truth.append([14, image])\n",
    "image = mpimg.imread('C:\\\\Users\\\\sagar\\\\Desktop\\\\web\\\\yield.jpg')\n",
    "plt.imshow(image)\n",
    "plt.show()\n",
    "ground_truth.append([13, image])"
   ]
  },
  {
   "cell_type": "markdown",
   "metadata": {},
   "source": [
    "### Predict the Sign Type for Each Image"
   ]
  },
  {
   "cell_type": "code",
   "execution_count": 86,
   "metadata": {},
   "outputs": [
    {
     "name": "stdout",
     "output_type": "stream",
     "text": [
      "GT : 3 Prediction : 3 - Correct\n",
      "GT : 3 Prediction : 2 - Incorrect\n",
      "GT : 4 Prediction : 8 - Incorrect\n",
      "GT : 17 Prediction : 17 - Correct\n",
      "GT : 14 Prediction : 14 - Correct\n",
      "GT : 13 Prediction : 13 - Correct\n",
      "Correct answer/s : 4\n"
     ]
    }
   ],
   "source": [
    "### Run the predictions here and use the model to output the prediction for each image.\n",
    "### Make sure to pre-process the images with the same pre-processing pipeline used earlier.\n",
    "### Feel free to use as many code cells as needed.\n",
    "X_t = np.array([col[1] for col in ground_truth])\n",
    "y_t = [col[0] for col in ground_truth]\n",
    "with tf.Session() as sess:\n",
    "    saver.restore(sess, tf.train.latest_checkpoint('./'))\n",
    "    predictions = sess.run(logits, feed_dict={x: X_t})\n",
    "    #print(\"Web images accuracy: {:.3f} \".format(accuracy))\n",
    "\n",
    "correct = 0\n",
    "for prediction,i in zip(predictions, range(len(predictions))):\n",
    "    cs = \"Incorrect\"\n",
    "    if y_t[i] == np.argmax(prediction):\n",
    "        correct += 1\n",
    "        cs = \"Correct\"\n",
    "    print(\"GT : {} Prediction : {} - {}\".format(y_t[i], np.argmax(prediction),cs))\n",
    "print(\"Correct answer/s : {}\".format(correct))"
   ]
  },
  {
   "cell_type": "markdown",
   "metadata": {},
   "source": [
    "### Analyze Performance"
   ]
  },
  {
   "cell_type": "code",
   "execution_count": 81,
   "metadata": {},
   "outputs": [
    {
     "name": "stdout",
     "output_type": "stream",
     "text": [
      "Web images accuracy: 66.667 %\n"
     ]
    }
   ],
   "source": [
    "### Calculate the accuracy for these 5 new images. \n",
    "### For example, if the model predicted 1 out of 5 signs correctly, it's 20% accurate on these new images.\n",
    "X_t = np.array([col[1] for col in ground_truth])\n",
    "y_t = [col[0] for col in ground_truth]\n",
    "with tf.Session() as sess:\n",
    "    saver.restore(sess, tf.train.latest_checkpoint('./'))\n",
    "    web_accuracy = sess.run(accuracy_operation, feed_dict={x: X_t, y: y_t})\n",
    "print(\"Web images accuracy: {:.3f} %\".format(web_accuracy*100))"
   ]
  },
  {
   "cell_type": "markdown",
   "metadata": {},
   "source": [
    "### Output Top 5 Softmax Probabilities For Each Image Found on the Web"
   ]
  },
  {
   "cell_type": "markdown",
   "metadata": {},
   "source": [
    "For each of the new images, print out the model's softmax probabilities to show the **certainty** of the model's predictions (limit the output to the top 5 probabilities for each image). [`tf.nn.top_k`](https://www.tensorflow.org/versions/r0.12/api_docs/python/nn.html#top_k) could prove helpful here. \n",
    "\n",
    "The example below demonstrates how tf.nn.top_k can be used to find the top k predictions for each image.\n",
    "\n",
    "`tf.nn.top_k` will return the values and indices (class ids) of the top k predictions. So if k=3, for each sign, it'll return the 3 largest probabilities (out of a possible 43) and the correspoding class ids.\n",
    "\n",
    "Take this numpy array as an example. The values in the array represent predictions. The array contains softmax probabilities for five candidate images with six possible classes. `tk.nn.top_k` is used to choose the three classes with the highest probability:\n",
    "\n",
    "```\n",
    "# (5, 6) array\n",
    "a = np.array([[ 0.24879643,  0.07032244,  0.12641572,  0.34763842,  0.07893497,\n",
    "         0.12789202],\n",
    "       [ 0.28086119,  0.27569815,  0.08594638,  0.0178669 ,  0.18063401,\n",
    "         0.15899337],\n",
    "       [ 0.26076848,  0.23664738,  0.08020603,  0.07001922,  0.1134371 ,\n",
    "         0.23892179],\n",
    "       [ 0.11943333,  0.29198961,  0.02605103,  0.26234032,  0.1351348 ,\n",
    "         0.16505091],\n",
    "       [ 0.09561176,  0.34396535,  0.0643941 ,  0.16240774,  0.24206137,\n",
    "         0.09155967]])\n",
    "```\n",
    "\n",
    "Running it through `sess.run(tf.nn.top_k(tf.constant(a), k=3))` produces:\n",
    "\n",
    "```\n",
    "TopKV2(values=array([[ 0.34763842,  0.24879643,  0.12789202],\n",
    "       [ 0.28086119,  0.27569815,  0.18063401],\n",
    "       [ 0.26076848,  0.23892179,  0.23664738],\n",
    "       [ 0.29198961,  0.26234032,  0.16505091],\n",
    "       [ 0.34396535,  0.24206137,  0.16240774]]), indices=array([[3, 0, 5],\n",
    "       [0, 1, 4],\n",
    "       [0, 5, 1],\n",
    "       [1, 3, 5],\n",
    "       [1, 4, 3]], dtype=int32))\n",
    "```\n",
    "\n",
    "Looking just at the first row we get `[ 0.34763842,  0.24879643,  0.12789202]`, you can confirm these are the 3 largest probabilities in `a`. You'll also notice `[3, 0, 5]` are the corresponding indices."
   ]
  },
  {
   "cell_type": "code",
   "execution_count": 85,
   "metadata": {},
   "outputs": [
    {
     "name": "stdout",
     "output_type": "stream",
     "text": [
      "TopKV2(values=array([[ 164.86122131,  135.44596863,  119.59223175,   77.5297699 ,\n",
      "          47.10877228],\n",
      "       [  92.15727997,   89.9544754 ,   75.79511261,   38.86062241,\n",
      "          33.44998932],\n",
      "       [ 279.54983521,  277.67602539,  162.60684204,  127.15193939,\n",
      "          74.5259552 ],\n",
      "       [ 201.1026001 ,   53.4071579 ,   42.71651077,   24.22657967,\n",
      "          20.71942329],\n",
      "       [ 169.20761108,   80.80471039,   75.1804657 ,   60.27823639,\n",
      "          52.9813118 ],\n",
      "       [ 295.22073364,   63.58897018,   52.62349319,   50.41560364,\n",
      "          36.82146454]], dtype=float32), indices=array([[ 3,  5,  2,  1, 36],\n",
      "       [ 2,  5,  3, 15,  9],\n",
      "       [ 8,  4,  0,  1,  5],\n",
      "       [17, 25, 14,  8,  3],\n",
      "       [14,  5, 17,  1,  0],\n",
      "       [13,  3, 14, 12, 15]]))\n"
     ]
    }
   ],
   "source": [
    "### Print out the top five softmax probabilities for the predictions on the German traffic sign images found on the web. \n",
    "### Feel free to use as many code cells as needed.\n",
    "with tf.Session() as sess:\n",
    "    saver.restore(sess, tf.train.latest_checkpoint('./'))\n",
    "    top_n = sess.run(tf.nn.top_k(logits,k=5), feed_dict={x: X_t})\n",
    "\n",
    "print(top_n)\n",
    "# i=0\n",
    "# for n,p in top_n[0]:\n",
    "#     print(\"Top 5 predicted classes: {} Correct Class: {}\".format(n,p,y_t[i]))\n",
    "#     i+=1"
   ]
  },
  {
   "cell_type": "markdown",
   "metadata": {},
   "source": [
    "### Project Writeup\n",
    "\n",
    "Once you have completed the code implementation, document your results in a project writeup using this [template](https://github.com/udacity/CarND-Traffic-Sign-Classifier-Project/blob/master/writeup_template.md) as a guide. The writeup can be in a markdown or pdf file. "
   ]
  },
  {
   "cell_type": "markdown",
   "metadata": {},
   "source": [
    "> **Note**: Once you have completed all of the code implementations and successfully answered each question above, you may finalize your work by exporting the iPython Notebook as an HTML document. You can do this by using the menu above and navigating to  \\n\",\n",
    "    \"**File -> Download as -> HTML (.html)**. Include the finished document along with this notebook as your submission."
   ]
  },
  {
   "cell_type": "markdown",
   "metadata": {},
   "source": [
    "---\n",
    "\n",
    "## Step 4 (Optional): Visualize the Neural Network's State with Test Images\n",
    "\n",
    " This Section is not required to complete but acts as an additional excersise for understaning the output of a neural network's weights. While neural networks can be a great learning device they are often referred to as a black box. We can understand what the weights of a neural network look like better by plotting their feature maps. After successfully training your neural network you can see what it's feature maps look like by plotting the output of the network's weight layers in response to a test stimuli image. From these plotted feature maps, it's possible to see what characteristics of an image the network finds interesting. For a sign, maybe the inner network feature maps react with high activation to the sign's boundary outline or to the contrast in the sign's painted symbol.\n",
    "\n",
    " Provided for you below is the function code that allows you to get the visualization output of any tensorflow weight layer you want. The inputs to the function should be a stimuli image, one used during training or a new one you provided, and then the tensorflow variable name that represents the layer's state during the training process, for instance if you wanted to see what the [LeNet lab's](https://classroom.udacity.com/nanodegrees/nd013/parts/fbf77062-5703-404e-b60c-95b78b2f3f9e/modules/6df7ae49-c61c-4bb2-a23e-6527e69209ec/lessons/601ae704-1035-4287-8b11-e2c2716217ad/concepts/d4aca031-508f-4e0b-b493-e7b706120f81) feature maps looked like for it's second convolutional layer you could enter conv2 as the tf_activation variable.\n",
    "\n",
    "For an example of what feature map outputs look like, check out NVIDIA's results in their paper [End-to-End Deep Learning for Self-Driving Cars](https://devblogs.nvidia.com/parallelforall/deep-learning-self-driving-cars/) in the section Visualization of internal CNN State. NVIDIA was able to show that their network's inner weights had high activations to road boundary lines by comparing feature maps from an image with a clear path to one without. Try experimenting with a similar test to show that your trained network's weights are looking for interesting features, whether it's looking at differences in feature maps from images with or without a sign, or even what feature maps look like in a trained network vs a completely untrained one on the same sign image.\n",
    "\n",
    "<figure>\n",
    " <img src=\"visualize_cnn.png\" width=\"380\" alt=\"Combined Image\" />\n",
    " <figcaption>\n",
    " <p></p> \n",
    " <p style=\"text-align: center;\"> Your output should look something like this (above)</p> \n",
    " </figcaption>\n",
    "</figure>\n",
    " <p></p> \n"
   ]
  },
  {
   "cell_type": "code",
   "execution_count": null,
   "metadata": {
    "collapsed": true
   },
   "outputs": [],
   "source": [
    "### Visualize your network's feature maps here.\n",
    "### Feel free to use as many code cells as needed.\n",
    "\n",
    "# image_input: the test image being fed into the network to produce the feature maps\n",
    "# tf_activation: should be a tf variable name used during your training procedure that represents the calculated state of a specific weight layer\n",
    "# activation_min/max: can be used to view the activation contrast in more detail, by default matplot sets min and max to the actual min and max values of the output\n",
    "# plt_num: used to plot out multiple different weight feature map sets on the same block, just extend the plt number for each new feature map entry\n",
    "\n",
    "def outputFeatureMap(image_input, tf_activation, activation_min=-1, activation_max=-1 ,plt_num=1):\n",
    "    # Here make sure to preprocess your image_input in a way your network expects\n",
    "    # with size, normalization, ect if needed\n",
    "    # image_input =\n",
    "    # Note: x should be the same name as your network's tensorflow data placeholder variable\n",
    "    # If you get an error tf_activation is not defined it may be having trouble accessing the variable from inside a function\n",
    "    activation = tf_activation.eval(session=sess,feed_dict={x : image_input})\n",
    "    featuremaps = activation.shape[3]\n",
    "    plt.figure(plt_num, figsize=(15,15))\n",
    "    for featuremap in range(featuremaps):\n",
    "        plt.subplot(6,8, featuremap+1) # sets the number of feature maps to show on each row and column\n",
    "        plt.title('FeatureMap ' + str(featuremap)) # displays the feature map number\n",
    "        if activation_min != -1 & activation_max != -1:\n",
    "            plt.imshow(activation[0,:,:, featuremap], interpolation=\"nearest\", vmin =activation_min, vmax=activation_max, cmap=\"gray\")\n",
    "        elif activation_max != -1:\n",
    "            plt.imshow(activation[0,:,:, featuremap], interpolation=\"nearest\", vmax=activation_max, cmap=\"gray\")\n",
    "        elif activation_min !=-1:\n",
    "            plt.imshow(activation[0,:,:, featuremap], interpolation=\"nearest\", vmin=activation_min, cmap=\"gray\")\n",
    "        else:\n",
    "            plt.imshow(activation[0,:,:, featuremap], interpolation=\"nearest\", cmap=\"gray\")"
   ]
  }
 ],
 "metadata": {
  "anaconda-cloud": {},
  "kernelspec": {
   "display_name": "Python 3",
   "language": "python",
   "name": "python3"
  },
  "language_info": {
   "codemirror_mode": {
    "name": "ipython",
    "version": 3
   },
   "file_extension": ".py",
   "mimetype": "text/x-python",
   "name": "python",
   "nbconvert_exporter": "python",
   "pygments_lexer": "ipython3",
   "version": "3.5.2"
  },
  "widgets": {
   "state": {},
   "version": "1.1.2"
  }
 },
 "nbformat": 4,
 "nbformat_minor": 1
}
