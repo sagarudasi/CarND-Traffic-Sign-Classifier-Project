{
 "cells": [
  {
   "cell_type": "markdown",
   "metadata": {},
   "source": [
    "# Self-Driving Car Engineer Nanodegree\n",
    "\n",
    "## Deep Learning\n",
    "\n",
    "## Project: Build a Traffic Sign Recognition Classifier\n",
    "\n",
    "In this notebook, a template is provided for you to implement your functionality in stages, which is required to successfully complete this project. If additional code is required that cannot be included in the notebook, be sure that the Python code is successfully imported and included in your submission if necessary. \n",
    "\n",
    "> **Note**: Once you have completed all of the code implementations, you need to finalize your work by exporting the iPython Notebook as an HTML document. Before exporting the notebook to html, all of the code cells need to have been run so that reviewers can see the final implementation and output. You can then export the notebook by using the menu above and navigating to  \\n\",\n",
    "    \"**File -> Download as -> HTML (.html)**. Include the finished document along with this notebook as your submission. \n",
    "\n",
    "In addition to implementing code, there is a writeup to complete. The writeup should be completed in a separate file, which can be either a markdown file or a pdf document. There is a [write up template](https://github.com/udacity/CarND-Traffic-Sign-Classifier-Project/blob/master/writeup_template.md) that can be used to guide the writing process. Completing the code template and writeup template will cover all of the [rubric points](https://review.udacity.com/#!/rubrics/481/view) for this project.\n",
    "\n",
    "The [rubric](https://review.udacity.com/#!/rubrics/481/view) contains \"Stand Out Suggestions\" for enhancing the project beyond the minimum requirements. The stand out suggestions are optional. If you decide to pursue the \"stand out suggestions\", you can include the code in this Ipython notebook and also discuss the results in the writeup file.\n",
    "\n",
    "\n",
    ">**Note:** Code and Markdown cells can be executed using the **Shift + Enter** keyboard shortcut. In addition, Markdown cells can be edited by typically double-clicking the cell to enter edit mode."
   ]
  },
  {
   "cell_type": "markdown",
   "metadata": {},
   "source": [
    "---\n",
    "## Step 0: Load The Data"
   ]
  },
  {
   "cell_type": "code",
   "execution_count": 26,
   "metadata": {
    "collapsed": false
   },
   "outputs": [],
   "source": [
    "# Load pickled data\n",
    "import pickle\n",
    "import numpy as np\n",
    "import tensorflow as tf\n",
    "from tensorflow.contrib.layers import flatten\n",
    "from sklearn.utils import shuffle\n",
    "\n",
    "# TODO: Fill this in based on where you saved the training and testing data\n",
    "\n",
    "training_file = \"C:\\\\Users\\\\sudasi\\\\Project\\\\CarND\\\\traffic-signs-data\\\\train.p\"\n",
    "validation_file= \"C:\\\\Users\\\\sudasi\\\\Project\\\\CarND\\\\traffic-signs-data\\\\valid.p\"\n",
    "testing_file = \"C:\\\\Users\\\\sudasi\\\\Project\\\\CarND\\\\traffic-signs-data\\\\test.p\"\n",
    "\n",
    "with open(training_file, mode='rb') as f:\n",
    "    train = pickle.load(f)\n",
    "with open(validation_file, mode='rb') as f:\n",
    "    valid = pickle.load(f)\n",
    "with open(testing_file, mode='rb') as f:\n",
    "    test = pickle.load(f)\n",
    "    \n",
    "X_train, y_train = train['features'], train['labels']\n",
    "X_valid, y_valid = valid['features'], valid['labels']\n",
    "X_test, y_test = test['features'], test['labels']"
   ]
  },
  {
   "cell_type": "markdown",
   "metadata": {},
   "source": [
    "---\n",
    "\n",
    "## Step 1: Dataset Summary & Exploration\n",
    "\n",
    "The pickled data is a dictionary with 4 key/value pairs:\n",
    "\n",
    "- `'features'` is a 4D array containing raw pixel data of the traffic sign images, (num examples, width, height, channels).\n",
    "- `'labels'` is a 1D array containing the label/class id of the traffic sign. The file `signnames.csv` contains id -> name mappings for each id.\n",
    "- `'sizes'` is a list containing tuples, (width, height) representing the original width and height the image.\n",
    "- `'coords'` is a list containing tuples, (x1, y1, x2, y2) representing coordinates of a bounding box around the sign in the image. **THESE COORDINATES ASSUME THE ORIGINAL IMAGE. THE PICKLED DATA CONTAINS RESIZED VERSIONS (32 by 32) OF THESE IMAGES**\n",
    "\n",
    "Complete the basic data summary below. Use python, numpy and/or pandas methods to calculate the data summary rather than hard coding the results. For example, the [pandas shape method](http://pandas.pydata.org/pandas-docs/stable/generated/pandas.DataFrame.shape.html) might be useful for calculating some of the summary results. "
   ]
  },
  {
   "cell_type": "markdown",
   "metadata": {},
   "source": [
    "### Provide a Basic Summary of the Data Set Using Python, Numpy and/or Pandas"
   ]
  },
  {
   "cell_type": "code",
   "execution_count": 27,
   "metadata": {
    "collapsed": false
   },
   "outputs": [
    {
     "name": "stdout",
     "output_type": "stream",
     "text": [
      "(34799, 32, 32, 3)\n",
      "Number of training examples = 34799\n",
      "Number of validation examples = 4410\n",
      "Number of testing examples = 12630\n",
      "Image data shape = (32, 32)\n",
      "Number of classes = 43\n"
     ]
    }
   ],
   "source": [
    "### Replace each question mark with the appropriate value. \n",
    "### Use python, pandas or numpy methods rather than hard coding the results\n",
    "\n",
    "# TODO: Number of training examples\n",
    "n_train = y_train.shape[0]\n",
    "\n",
    "# TODO: Number of validation examples\n",
    "n_validation = y_valid.shape[0]\n",
    "\n",
    "# TODO: Number of testing examples.\n",
    "n_test = y_test.shape[0]\n",
    "\n",
    "# TODO: What's the shape of an traffic sign image?\n",
    "image_shape = X_train.shape[1:3]\n",
    "\n",
    "# TODO: How many unique classes/labels there are in the dataset.\n",
    "n_classes = np.unique(y_train).shape[0]\n",
    "\n",
    "print(X_train.shape)\n",
    "print(\"Number of training examples =\", n_train)\n",
    "print(\"Number of validation examples =\", n_validation)\n",
    "print(\"Number of testing examples =\", n_test)\n",
    "print(\"Image data shape =\", image_shape)\n",
    "print(\"Number of classes =\", n_classes)"
   ]
  },
  {
   "cell_type": "markdown",
   "metadata": {},
   "source": [
    "### Include an exploratory visualization of the dataset"
   ]
  },
  {
   "cell_type": "markdown",
   "metadata": {},
   "source": [
    "Visualize the German Traffic Signs Dataset using the pickled file(s). This is open ended, suggestions include: plotting traffic sign images, plotting the count of each sign, etc. \n",
    "\n",
    "The [Matplotlib](http://matplotlib.org/) [examples](http://matplotlib.org/examples/index.html) and [gallery](http://matplotlib.org/gallery.html) pages are a great resource for doing visualizations in Python.\n",
    "\n",
    "**NOTE:** It's recommended you start with something simple first. If you wish to do more, come back to it after you've completed the rest of the sections. It can be interesting to look at the distribution of classes in the training, validation and test set. Is the distribution the same? Are there more examples of some classes than others?"
   ]
  },
  {
   "cell_type": "code",
   "execution_count": 28,
   "metadata": {
    "collapsed": false
   },
   "outputs": [
    {
     "data": {
      "image/png": "[encoded data removed]",
      "text/plain": [
       "<matplotlib.figure.Figure at 0x2bdbdba2f98>"
      ]
     },
     "metadata": {},
     "output_type": "display_data"
    },
    {
     "name": "stdout",
     "output_type": "stream",
     "text": [
      " Above image class: 31\n"
     ]
    },
    {
     "data": {
      "image/png": "[encoded data removed]",
      "text/plain": [
       "<matplotlib.figure.Figure at 0x2bdbec40780>"
      ]
     },
     "metadata": {},
     "output_type": "display_data"
    },
    {
     "name": "stdout",
     "output_type": "stream",
     "text": [
      "[41 41 41 ..., 25 25 25]\n"
     ]
    }
   ],
   "source": [
    "### Data exploration visualization code goes here.\n",
    "### Feel free to use as many code cells as needed.\n",
    "import matplotlib.pyplot as plt\n",
    "# Visualizations will be shown in the notebook.\n",
    "%matplotlib inline\n",
    "\n",
    "vis = 300\n",
    "plt.imshow(X_train[vis])\n",
    "plt.show()\n",
    "print(\" Above image class: \"+str(y_train[vis]))\n",
    "classes, count = np.unique(y_train,return_counts=\"true\")\n",
    "tot_class_counts = dict(zip(classes, count))\n",
    "y = []\n",
    "for key, value in tot_class_counts.items():\n",
    "    y.append(value)\n",
    "x = range(43)\n",
    "width = 1/2\n",
    "plt.xlabel(\"Classes\")\n",
    "plt.ylabel(\"# of training examples\")\n",
    "plt.bar(x, y, width, color=\"blue\")\n",
    "plt.show()\n",
    "print(y_train)"
   ]
  },
  {
   "cell_type": "markdown",
   "metadata": {},
   "source": [
    "----\n",
    "\n",
    "## Step 2: Design and Test a Model Architecture\n",
    "\n",
    "Design and implement a deep learning model that learns to recognize traffic signs. Train and test your model on the [German Traffic Sign Dataset](http://benchmark.ini.rub.de/?section=gtsrb&subsection=dataset).\n",
    "\n",
    "The LeNet-5 implementation shown in the [classroom](https://classroom.udacity.com/nanodegrees/nd013/parts/fbf77062-5703-404e-b60c-95b78b2f3f9e/modules/6df7ae49-c61c-4bb2-a23e-6527e69209ec/lessons/601ae704-1035-4287-8b11-e2c2716217ad/concepts/d4aca031-508f-4e0b-b493-e7b706120f81) at the end of the CNN lesson is a solid starting point. You'll have to change the number of classes and possibly the preprocessing, but aside from that it's plug and play! \n",
    "\n",
    "With the LeNet-5 solution from the lecture, you should expect a validation set accuracy of about 0.89. To meet specifications, the validation set accuracy will need to be at least 0.93. It is possible to get an even higher accuracy, but 0.93 is the minimum for a successful project submission. \n",
    "\n",
    "There are various aspects to consider when thinking about this problem:\n",
    "\n",
    "- Neural network architecture (is the network over or underfitting?)\n",
    "- Play around preprocessing techniques (normalization, rgb to grayscale, etc)\n",
    "- Number of examples per label (some have more than others).\n",
    "- Generate fake data.\n",
    "\n",
    "Here is an example of a [published baseline model on this problem](http://yann.lecun.com/exdb/publis/pdf/sermanet-ijcnn-11.pdf). It's not required to be familiar with the approach used in the paper but, it's good practice to try to read papers like these."
   ]
  },
  {
   "cell_type": "markdown",
   "metadata": {},
   "source": [
    "### Pre-process the Data Set (normalization, grayscale, etc.)"
   ]
  },
  {
   "cell_type": "markdown",
   "metadata": {},
   "source": [
    "Minimally, the image data should be normalized so that the data has mean zero and equal variance. For image data, `(pixel - 128)/ 128` is a quick way to approximately normalize the data and can be used in this project. \n",
    "\n",
    "Other pre-processing steps are optional. You can try different techniques to see if it improves performance. \n",
    "\n",
    "Use the code cell (or multiple code cells, if necessary) to implement the first step of your project."
   ]
  },
  {
   "cell_type": "code",
   "execution_count": 29,
   "metadata": {
    "collapsed": false
   },
   "outputs": [
    {
     "name": "stdout",
     "output_type": "stream",
     "text": [
      "[[-0.33865625 -0.43377344 -0.53725781 ..., -0.34489844 -0.34472656 -0.246     ]\n",
      " [-0.29967969 -0.46969531 -0.63020312 ..., -0.28345313 -0.259375\n",
      "  -0.16757031]\n",
      " [-0.32553906 -0.53139063 -0.66289844 ..., -0.25067187 -0.22795313\n",
      "  -0.16973438]\n",
      " ..., \n",
      " [-0.33657812 -0.34650781 -0.31058594 ..., -0.387875   -0.36991406\n",
      "  -0.31064063]\n",
      " [-0.42082031 -0.40230469 -0.35857031 ..., -0.39399219 -0.36966406\n",
      "  -0.34019531]\n",
      " [-0.49805469 -0.45207031 -0.40430469 ..., -0.41742969 -0.389875\n",
      "  -0.35573438]]\n"
     ]
    },
    {
     "data": {
      "image/png": "[encoded data removed]",
      "text/plain": [
       "<matplotlib.figure.Figure at 0x2bdbdb99b70>"
      ]
     },
     "metadata": {},
     "output_type": "display_data"
    },
    {
     "name": "stdout",
     "output_type": "stream",
     "text": [
      "(34799, 32, 32, 1)\n"
     ]
    }
   ],
   "source": [
    "### Preprocess the data here. It is required to normalize the data. Other preprocessing steps could include \n",
    "### converting to grayscale, etc.\n",
    "### Feel free to use as many code cells as needed.\n",
    "\n",
    "# Convert data to grayscale\n",
    "def grayscale(X_n):\n",
    "    return np.dot(X_n[...,:3], [0.299, 0.587, 0.114])\n",
    "\n",
    "# Normalize data to have 0 mean\n",
    "def normalize(X_n):\n",
    "    X_n = np.subtract(X_n, 128)\n",
    "    return np.divide(X_n, 128)\n",
    "\n",
    "def preProcess(X_n):\n",
    "    X_n = grayscale(X_n)\n",
    "    return normalize(X_n)\n",
    "\n",
    "def reShape(X_n):\n",
    "    return np.reshape(X_n, (X_n.shape[0], X_n.shape[1], X_n.shape[2], 1))\n",
    "\n",
    "# Pre-process data\n",
    "PreP_X_train = preProcess(X_train)\n",
    "PreP_X_valid = preProcess(X_valid)\n",
    "PreP_X_test = preProcess(X_test)\n",
    "\n",
    "# Print the data \n",
    "vis = 300\n",
    "print(PreP_X_train[vis])\n",
    "plt.imshow(PreP_X_train[vis], cmap=\"gray\")\n",
    "plt.show()\n",
    "\n",
    "# Re-shape data to be compatible with LeNet\n",
    "PreP_X_train = reShape(PreP_X_train)\n",
    "PreP_X_valid = reShape(PreP_X_valid)\n",
    "PreP_X_test = reShape(PreP_X_test)\n",
    "\n",
    "PreP_y_train = y_train\n",
    "PreP_y_valid = y_valid\n",
    "PreP_y_test = y_test\n",
    "\n",
    "print(PreP_X_train.shape)"
   ]
  },
  {
   "cell_type": "markdown",
   "metadata": {},
   "source": [
    "### Model Architecture"
   ]
  },
  {
   "cell_type": "code",
   "execution_count": 36,
   "metadata": {
    "collapsed": false
   },
   "outputs": [],
   "source": [
    "### Define your architecture here.\n",
    "### Feel free to use as many code cells as needed.\n",
    "\n",
    "def LeNet(x):\n",
    "    mean = 0\n",
    "    deviation = 0.1\n",
    "    \n",
    "    conv1_W = tf.Variable(tf.truncated_normal(shape=(5,5,1,10),mean=mean, stddev = deviation))\n",
    "    conv1_b = tf.Variable(tf.zeros(10))\n",
    "    conv1 = tf.nn.conv2d(x, conv1_W, strides=[1,1,1,1], padding='VALID') + conv1_b\n",
    "    \n",
    "    conv1 = tf.nn.relu(conv1)\n",
    "    \n",
    "    conv1 = tf.nn.max_pool(conv1, ksize=[1,2,2,1], strides=[1,2,2,1], padding='VALID')\n",
    "    \n",
    "    conv2_W = tf.Variable(tf.truncated_normal(shape=(3,3,10,16), mean=mean, stddev = deviation))\n",
    "    conv2_b = tf.Variable(tf.zeros(16))\n",
    "    conv2 = tf.nn.conv2d(conv1, conv2_W, strides=[1,1,1,1], padding='VALID') + conv2_b\n",
    "    \n",
    "    conv2 = tf.nn.relu(conv2)\n",
    "    \n",
    "    conv2 = tf.nn.max_pool(conv2, ksize=[1,2,2,1], strides=[1,2,2,1], padding='VALID')\n",
    "    \n",
    "    conv3_W = tf.Variable(tf.truncated_normal(shape=(3,3,16,28), mean=mean, stddev = deviation))\n",
    "    conv3_b = tf.Variable(tf.zeros(28))\n",
    "    conv3 = tf.nn.conv2d(conv2, conv3_W, strides=[1,1,1,1], padding='VALID') + conv3_b\n",
    "    \n",
    "    conv3 = tf.nn.relu(conv3)\n",
    "    \n",
    "    fc0 = flatten(conv3)\n",
    "    \n",
    "    fc1_W = tf.Variable(tf.truncated_normal(shape=(448,120), mean=mean, stddev=deviation))\n",
    "    fc1_b = tf.Variable(tf.zeros(120))\n",
    "    fc1 = tf.matmul(fc0,fc1_W) + fc1_b\n",
    "    fc1 = tf.nn.relu(fc1)\n",
    "    \n",
    "    fd1 = tf.nn.dropout(fc1, 0.50)\n",
    "    \n",
    "#     fc2_W = tf.Variable(tf.truncated_normal(shape=(120,84), mean=mean, stddev=deviation))\n",
    "#     fc2_b = tf.Variable(tf.zeros(84))\n",
    "#     fc2 = tf.matmul(fd1,fc2_W) + fc2_b\n",
    "#     fc2 = tf.nn.relu(fc2)\n",
    "    \n",
    "#     fd2 = tf.nn.dropout(fc2, 0.60)\n",
    "    \n",
    "    fc3_W = tf.Variable(tf.truncated_normal(shape=(120,43), mean=mean, stddev=deviation))\n",
    "    fc3_b = tf.Variable(tf.zeros(43))\n",
    "    logits = tf.matmul(fd1,fc3_W) + fc3_b\n",
    "    \n",
    "    return logits\n",
    "\n",
    "EPOCHS = 30\n",
    "BATCH_SIZE = 128\n",
    "\n",
    "x = tf.placeholder(tf.float32,(None, 32,32,1))\n",
    "y = tf.placeholder(tf.int32,(None))\n",
    "one_hot_y = tf.one_hot(y, 43)\n",
    "rate = 0.0005\n",
    "\n",
    "logits = LeNet(x)\n",
    "cross_entropy = tf.nn.softmax_cross_entropy_with_logits(logits = logits, labels = one_hot_y)\n",
    "loss_operation = tf.reduce_mean(cross_entropy)\n",
    "optimizer = tf.train.AdamOptimizer(learning_rate = rate)\n",
    "training_operation = optimizer.minimize(loss_operation)\n",
    "\n",
    "    "
   ]
  },
  {
   "cell_type": "markdown",
   "metadata": {},
   "source": [
    "### Train, Validate and Test the Model"
   ]
  },
  {
   "cell_type": "markdown",
   "metadata": {},
   "source": [
    "A validation set can be used to assess how well the model is performing. A low accuracy on the training and validation\n",
    "sets imply underfitting. A high accuracy on the training set but low accuracy on the validation set implies overfitting."
   ]
  },
  {
   "cell_type": "code",
   "execution_count": 37,
   "metadata": {
    "collapsed": false,
    "scrolled": false
   },
   "outputs": [
    {
     "name": "stdout",
     "output_type": "stream",
     "text": [
      "EPOCHS: 30\n",
      "Training ....\n",
      "\n",
      "Data shuffled ...\n",
      "EPOCH 1 ...\n",
      "Validation accuracy = 0.490\n",
      "\n",
      "Data shuffled ...\n",
      "EPOCH 2 ...\n",
      "Validation accuracy = 0.679\n",
      "\n",
      "Data shuffled ...\n",
      "EPOCH 3 ...\n",
      "Validation accuracy = 0.756\n",
      "\n",
      "Data shuffled ...\n",
      "EPOCH 4 ...\n",
      "Validation accuracy = 0.789\n",
      "\n",
      "Data shuffled ...\n",
      "EPOCH 5 ...\n",
      "Validation accuracy = 0.820\n",
      "\n",
      "Data shuffled ...\n",
      "EPOCH 6 ...\n",
      "Validation accuracy = 0.836\n",
      "\n",
      "Data shuffled ...\n",
      "EPOCH 7 ...\n",
      "Validation accuracy = 0.852\n",
      "\n",
      "Data shuffled ...\n",
      "EPOCH 8 ...\n",
      "Validation accuracy = 0.863\n",
      "\n",
      "Data shuffled ...\n",
      "EPOCH 9 ...\n",
      "Validation accuracy = 0.868\n",
      "\n",
      "Data shuffled ...\n",
      "EPOCH 10 ...\n",
      "Validation accuracy = 0.860\n",
      "\n",
      "Data shuffled ...\n",
      "EPOCH 11 ...\n",
      "Validation accuracy = 0.870\n",
      "\n",
      "Data shuffled ...\n",
      "EPOCH 12 ...\n",
      "Validation accuracy = 0.880\n",
      "\n",
      "Data shuffled ...\n",
      "EPOCH 13 ...\n",
      "Validation accuracy = 0.880\n",
      "\n",
      "Data shuffled ...\n",
      "EPOCH 14 ...\n",
      "Validation accuracy = 0.889\n",
      "\n",
      "Data shuffled ...\n",
      "EPOCH 15 ...\n",
      "Validation accuracy = 0.894\n",
      "\n",
      "Data shuffled ...\n",
      "EPOCH 16 ...\n",
      "Validation accuracy = 0.890\n",
      "\n",
      "Data shuffled ...\n",
      "EPOCH 17 ...\n",
      "Validation accuracy = 0.893\n",
      "\n",
      "Data shuffled ...\n",
      "EPOCH 18 ...\n",
      "Validation accuracy = 0.885\n",
      "\n",
      "Data shuffled ...\n",
      "EPOCH 19 ...\n",
      "Validation accuracy = 0.892\n",
      "\n",
      "Data shuffled ...\n",
      "EPOCH 20 ...\n",
      "Validation accuracy = 0.902\n",
      "\n",
      "Data shuffled ...\n",
      "EPOCH 21 ...\n",
      "Validation accuracy = 0.900\n",
      "\n",
      "Data shuffled ...\n",
      "EPOCH 22 ...\n",
      "Validation accuracy = 0.906\n",
      "\n",
      "Data shuffled ...\n",
      "EPOCH 23 ...\n",
      "Validation accuracy = 0.899\n",
      "\n",
      "Data shuffled ...\n",
      "EPOCH 24 ...\n",
      "Validation accuracy = 0.910\n",
      "\n",
      "Data shuffled ...\n",
      "EPOCH 25 ...\n",
      "Validation accuracy = 0.908\n",
      "\n",
      "Data shuffled ...\n",
      "EPOCH 26 ...\n",
      "Validation accuracy = 0.909\n",
      "\n",
      "Data shuffled ...\n",
      "EPOCH 27 ...\n",
      "Validation accuracy = 0.911\n",
      "\n",
      "Data shuffled ...\n",
      "EPOCH 28 ...\n",
      "Validation accuracy = 0.904\n",
      "\n",
      "Data shuffled ...\n",
      "EPOCH 29 ...\n",
      "Validation accuracy = 0.913\n",
      "\n",
      "Data shuffled ...\n",
      "EPOCH 30 ...\n",
      "Validation accuracy = 0.913\n",
      "\n",
      "Train accuracy = 0.977\n",
      "Model saved\n"
     ]
    }
   ],
   "source": [
    "### Train your model here.\n",
    "### Calculate and report the accuracy on the training and validation set.\n",
    "### Once a final model architecture is selected, \n",
    "### the accuracy on the test set should be calculated and reported as well.\n",
    "### Feel free to use as many code cells as needed.\n",
    "\n",
    "correct_prediction = tf.equal(tf.argmax(logits, 1), tf.argmax(one_hot_y, 1))\n",
    "accuracy_operation = tf.reduce_mean(tf.cast(correct_prediction, tf.float32))\n",
    "saver = tf.train.Saver()\n",
    "\n",
    "print(\"EPOCHS: \"+str(EPOCHS))\n",
    "def evaluate(X_data, y_data):\n",
    "    num_examples = len(X_data)\n",
    "    total_accuracy = 0\n",
    "    sess = tf.get_default_session()\n",
    "    for offset in range(0, num_examples, BATCH_SIZE):\n",
    "        batch_x, batch_y = X_data[offset:offset+BATCH_SIZE], y_data[offset:offset+BATCH_SIZE]\n",
    "        accuracy = sess.run(accuracy_operation, feed_dict={x: batch_x, y: batch_y})\n",
    "        total_accuracy += (accuracy * len(batch_x))\n",
    "    return total_accuracy / num_examples\n",
    "\n",
    "with tf.Session() as sess:\n",
    "    sess.run(tf.global_variables_initializer())\n",
    "    num_examples = len(PreP_X_train)\n",
    "    \n",
    "    print(\"Training ....\\n\")\n",
    "    for i in range(EPOCHS):\n",
    "        PreP_X_train, PreP_y_train = shuffle(PreP_X_train, PreP_y_train)\n",
    "        print(\"Data shuffled ...\")\n",
    "        for offset in range(0, num_examples, BATCH_SIZE):\n",
    "            end = offset + BATCH_SIZE\n",
    "            batch_x, batch_y = PreP_X_train[offset:end], PreP_y_train[offset:end]\n",
    "            sess.run(training_operation, feed_dict={x: batch_x, y: batch_y})\n",
    "        \n",
    "        #train_accuracy = evaluate(X_train, y_train)\n",
    "        validation_accuracy = evaluate(PreP_X_valid, PreP_y_valid)\n",
    "        print(\"EPOCH {} ...\".format(i+1))\n",
    "        #print(\"Train accuracy = {:.3f}\".format(train_accuracy))\n",
    "        print(\"Validation accuracy = {:.3f}\".format(validation_accuracy))\n",
    "        print()\n",
    "    train_accuracy = evaluate(PreP_X_train, PreP_y_train) \n",
    "    print(\"Train accuracy = {:.3f}\".format(train_accuracy))\n",
    "    saver.save(sess, './lenet')\n",
    "    print(\"Model saved\")\n"
   ]
  },
  {
   "cell_type": "markdown",
   "metadata": {},
   "source": [
    "---\n",
    "\n",
    "## Step 3: Test a Model on New Images\n",
    "\n",
    "To give yourself more insight into how your model is working, download at least five pictures of German traffic signs from the web and use your model to predict the traffic sign type.\n",
    "\n",
    "You may find `signnames.csv` useful as it contains mappings from the class id (integer) to the actual sign name."
   ]
  },
  {
   "cell_type": "code",
   "execution_count": 12,
   "metadata": {
    "collapsed": false
   },
   "outputs": [
    {
     "name": "stdout",
     "output_type": "stream",
     "text": [
      "Train accuracy: 0.982 \n",
      "Validation accuracy: 0.921 \n",
      "Test accuracy: 0.901 \n"
     ]
    }
   ],
   "source": [
    "with tf.Session() as sess:\n",
    "    saver.restore(sess, tf.train.latest_checkpoint('./'))\n",
    "    train_accuracy = evaluate(PreP_X_train, y_train)\n",
    "    print(\"Train accuracy: {:.3f} \".format(train_accuracy))\n",
    "    valid_accuracy = evaluate(PreP_X_valid, y_valid)\n",
    "    print(\"Validation accuracy: {:.3f} \".format(valid_accuracy))\n",
    "    test_accuracy = evaluate(PreP_X_test, y_test)\n",
    "    print(\"Test accuracy: {:.3f} \".format(test_accuracy))"
   ]
  },
  {
   "cell_type": "markdown",
   "metadata": {},
   "source": [
    "### Load and Output the Images"
   ]
  },
  {
   "cell_type": "code",
   "execution_count": 33,
   "metadata": {
    "collapsed": false
   },
   "outputs": [
    {
     "data": {
      "image/png": "[encoded data removed]",
      "text/plain": [
       "<matplotlib.figure.Figure at 0x20dc40ac668>"
      ]
     },
     "metadata": {},
     "output_type": "display_data"
    },
    {
     "data": {
      "image/png": "[encoded data removed]",
      "text/plain": [
       "<matplotlib.figure.Figure at 0x20dc4047a58>"
      ]
     },
     "metadata": {},
     "output_type": "display_data"
    },
    {
     "data": {
      "image/png": "[encoded data removed]",
      "text/plain": [
       "<matplotlib.figure.Figure at 0x20dcfa919e8>"
      ]
     },
     "metadata": {},
     "output_type": "display_data"
    },
    {
     "data": {
      "image/png": "[encoded data removed]",
      "text/plain": [
       "<matplotlib.figure.Figure at 0x20dc3579c18>"
      ]
     },
     "metadata": {},
     "output_type": "display_data"
    },
    {
     "data": {
      "image/png": "[encoded data removed]",
      "text/plain": [
       "<matplotlib.figure.Figure at 0x20da1f51278>"
      ]
     },
     "metadata": {},
     "output_type": "display_data"
    },
    {
     "data": {
      "image/png": "[encoded data removed]",
      "text/plain": [
       "<matplotlib.figure.Figure at 0x20da1f4bbe0>"
      ]
     },
     "metadata": {},
     "output_type": "display_data"
    }
   ],
   "source": [
    "### Load the images and plot them here.\n",
    "### Feel free to use as many code cells as needed.\n",
    "import matplotlib.image as mpimg\n",
    "X_ground_truth = []\n",
    "im_path = \"C:\\\\Users\\\\sudasi\\\\Project\\\\CarND\\\\CarND-Traffic-Sign-Classifier-Project\\\\examples\\\\\"\n",
    "images = [\"60.jpg\",\"60_2.jpg\",\"70.jpg\",\"noentry.jpg\",\"stop.jpg\",\"yield.jpg\"]\n",
    "y_ground_truth = [3,3,4,17,14,13]\n",
    "c = 0\n",
    "for i in images:\n",
    "    image = preProcess(mpimg.imread(im_path+i))\n",
    "    plt.imshow(image)\n",
    "    plt.show()\n",
    "    X_ground_truth.append(image)\n",
    "    c += 1\n",
    "\n",
    "X_ground_truth = np.array(X_ground_truth)\n",
    "X_ground_truth = reShape(X_ground_truth)\n"
   ]
  },
  {
   "cell_type": "markdown",
   "metadata": {},
   "source": [
    "### Predict the Sign Type for Each Image"
   ]
  },
  {
   "cell_type": "code",
   "execution_count": 38,
   "metadata": {
    "collapsed": false
   },
   "outputs": [
    {
     "name": "stdout",
     "output_type": "stream",
     "text": [
      "GT : 3 Prediction : 3 - Correct\n",
      "GT : 3 Prediction : 2 - Incorrect\n",
      "GT : 4 Prediction : 4 - Correct\n",
      "GT : 17 Prediction : 17 - Correct\n",
      "GT : 14 Prediction : 14 - Correct\n",
      "GT : 13 Prediction : 13 - Correct\n",
      "Correct answer/s : 5\n"
     ]
    }
   ],
   "source": [
    "### Run the predictions here and use the model to output the prediction for each image.\n",
    "### Make sure to pre-process the images with the same pre-processing pipeline used earlier.\n",
    "### Feel free to use as many code cells as needed.\n",
    "X_t = X_ground_truth\n",
    "y_t = y_ground_truth\n",
    "with tf.Session() as sess:\n",
    "    saver.restore(sess, tf.train.latest_checkpoint('./'))\n",
    "    predictions = sess.run(logits, feed_dict={x: X_t})\n",
    "    #print(\"Web images accuracy: {:.3f} \".format(accuracy))\n",
    "\n",
    "correct = 0\n",
    "for prediction,i in zip(predictions, range(len(predictions))):\n",
    "    cs = \"Incorrect\"\n",
    "    if y_t[i] == np.argmax(prediction):\n",
    "        correct += 1\n",
    "        cs = \"Correct\"\n",
    "    print(\"GT : {} Prediction : {} - {}\".format(y_t[i], np.argmax(prediction),cs))\n",
    "print(\"Correct answer/s : {}\".format(correct))"
   ]
  },
  {
   "cell_type": "markdown",
   "metadata": {},
   "source": [
    "### Analyze Performance"
   ]
  },
  {
   "cell_type": "code",
   "execution_count": 41,
   "metadata": {
    "collapsed": false
   },
   "outputs": [
    {
     "name": "stdout",
     "output_type": "stream",
     "text": [
      "Web images accuracy: 83.333 %\n"
     ]
    }
   ],
   "source": [
    "### Calculate the accuracy for these 5 new images. \n",
    "### For example, if the model predicted 1 out of 5 signs correctly, it's 20% accurate on these new images.\n",
    "X_t = X_ground_truth\n",
    "y_t = y_ground_truth\n",
    "with tf.Session() as sess:\n",
    "    saver.restore(sess, tf.train.latest_checkpoint('./'))\n",
    "    web_accuracy = sess.run(accuracy_operation, feed_dict={x: X_t, y: y_t})\n",
    "print(\"Web images accuracy: {:.3f} %\".format(web_accuracy*100))"
   ]
  },
  {
   "cell_type": "markdown",
   "metadata": {},
   "source": [
    "### Output Top 5 Softmax Probabilities For Each Image Found on the Web"
   ]
  },
  {
   "cell_type": "markdown",
   "metadata": {},
   "source": [
    "For each of the new images, print out the model's softmax probabilities to show the **certainty** of the model's predictions (limit the output to the top 5 probabilities for each image). [`tf.nn.top_k`](https://www.tensorflow.org/versions/r0.12/api_docs/python/nn.html#top_k) could prove helpful here. \n",
    "\n",
    "The example below demonstrates how tf.nn.top_k can be used to find the top k predictions for each image.\n",
    "\n",
    "`tf.nn.top_k` will return the values and indices (class ids) of the top k predictions. So if k=3, for each sign, it'll return the 3 largest probabilities (out of a possible 43) and the correspoding class ids.\n",
    "\n",
    "Take this numpy array as an example. The values in the array represent predictions. The array contains softmax probabilities for five candidate images with six possible classes. `tk.nn.top_k` is used to choose the three classes with the highest probability:\n",
    "\n",
    "```\n",
    "# (5, 6) array\n",
    "a = np.array([[ 0.24879643,  0.07032244,  0.12641572,  0.34763842,  0.07893497,\n",
    "         0.12789202],\n",
    "       [ 0.28086119,  0.27569815,  0.08594638,  0.0178669 ,  0.18063401,\n",
    "         0.15899337],\n",
    "       [ 0.26076848,  0.23664738,  0.08020603,  0.07001922,  0.1134371 ,\n",
    "         0.23892179],\n",
    "       [ 0.11943333,  0.29198961,  0.02605103,  0.26234032,  0.1351348 ,\n",
    "         0.16505091],\n",
    "       [ 0.09561176,  0.34396535,  0.0643941 ,  0.16240774,  0.24206137,\n",
    "         0.09155967]])\n",
    "```\n",
    "\n",
    "Running it through `sess.run(tf.nn.top_k(tf.constant(a), k=3))` produces:\n",
    "\n",
    "```\n",
    "TopKV2(values=array([[ 0.34763842,  0.24879643,  0.12789202],\n",
    "       [ 0.28086119,  0.27569815,  0.18063401],\n",
    "       [ 0.26076848,  0.23892179,  0.23664738],\n",
    "       [ 0.29198961,  0.26234032,  0.16505091],\n",
    "       [ 0.34396535,  0.24206137,  0.16240774]]), indices=array([[3, 0, 5],\n",
    "       [0, 1, 4],\n",
    "       [0, 5, 1],\n",
    "       [1, 3, 5],\n",
    "       [1, 4, 3]], dtype=int32))\n",
    "```\n",
    "\n",
    "Looking just at the first row we get `[ 0.34763842,  0.24879643,  0.12789202]`, you can confirm these are the 3 largest probabilities in `a`. You'll also notice `[3, 0, 5]` are the corresponding indices."
   ]
  },
  {
   "cell_type": "code",
   "execution_count": 42,
   "metadata": {
    "collapsed": false
   },
   "outputs": [
    {
     "name": "stdout",
     "output_type": "stream",
     "text": [
      "TopKV2(values=array([[  9.30117488e-01,   6.98823929e-02,   6.47446967e-08,\n",
      "          2.58910759e-08,   3.61383923e-09],\n",
      "       [  8.96323442e-01,   1.03354029e-01,   3.13412893e-04,\n",
      "          8.78711489e-06,   1.18613208e-07],\n",
      "       [  1.00000000e+00,   1.28944802e-17,   2.69800880e-18,\n",
      "          1.97201332e-21,   1.13408916e-26],\n",
      "       [  9.99898314e-01,   8.62364104e-05,   1.44308578e-05,\n",
      "          9.34460331e-07,   8.81491857e-09],\n",
      "       [  1.00000000e+00,   7.05838374e-11,   1.91963382e-14,\n",
      "          1.01242138e-14,   8.81302577e-16],\n",
      "       [  9.99999285e-01,   6.91741718e-07,   1.12394198e-10,\n",
      "          8.23332513e-11,   1.46589522e-12]], dtype=float32), indices=array([[ 3,  1,  2, 38, 34],\n",
      "       [ 3,  2,  5, 10, 25],\n",
      "       [ 4,  1,  0, 18, 31],\n",
      "       [17,  9, 13, 41, 12],\n",
      "       [14, 38, 17,  1,  2],\n",
      "       [13, 25,  3,  9,  2]]))\n"
     ]
    }
   ],
   "source": [
    "### Print out the top five softmax probabilities for the predictions on the German traffic sign images found on the web. \n",
    "### Feel free to use as many code cells as needed.\n",
    "with tf.Session() as sess:\n",
    "    saver.restore(sess, tf.train.latest_checkpoint('./'))\n",
    "    top_n = sess.run(tf.nn.top_k(tf.nn.softmax(logits),k=5), feed_dict={x: X_t})\n",
    "\n",
    "print(top_n)\n",
    "# i=0\n",
    "# for n,p in top_n[0]:\n",
    "#     print(\"Top 5 predicted classes: {} Correct Class: {}\".format(n,p,y_t[i]))\n",
    "#     i+=1"
   ]
  },
  {
   "cell_type": "markdown",
   "metadata": {},
   "source": [
    "### Project Writeup\n",
    "\n",
    "Once you have completed the code implementation, document your results in a project writeup using this [template](https://github.com/udacity/CarND-Traffic-Sign-Classifier-Project/blob/master/writeup_template.md) as a guide. The writeup can be in a markdown or pdf file. "
   ]
  },
  {
   "cell_type": "markdown",
   "metadata": {},
   "source": [
    "> **Note**: Once you have completed all of the code implementations and successfully answered each question above, you may finalize your work by exporting the iPython Notebook as an HTML document. You can do this by using the menu above and navigating to  \\n\",\n",
    "    \"**File -> Download as -> HTML (.html)**. Include the finished document along with this notebook as your submission."
   ]
  },
  {
   "cell_type": "markdown",
   "metadata": {},
   "source": [
    "---\n",
    "\n",
    "## Step 4 (Optional): Visualize the Neural Network's State with Test Images\n",
    "\n",
    " This Section is not required to complete but acts as an additional excersise for understaning the output of a neural network's weights. While neural networks can be a great learning device they are often referred to as a black box. We can understand what the weights of a neural network look like better by plotting their feature maps. After successfully training your neural network you can see what it's feature maps look like by plotting the output of the network's weight layers in response to a test stimuli image. From these plotted feature maps, it's possible to see what characteristics of an image the network finds interesting. For a sign, maybe the inner network feature maps react with high activation to the sign's boundary outline or to the contrast in the sign's painted symbol.\n",
    "\n",
    " Provided for you below is the function code that allows you to get the visualization output of any tensorflow weight layer you want. The inputs to the function should be a stimuli image, one used during training or a new one you provided, and then the tensorflow variable name that represents the layer's state during the training process, for instance if you wanted to see what the [LeNet lab's](https://classroom.udacity.com/nanodegrees/nd013/parts/fbf77062-5703-404e-b60c-95b78b2f3f9e/modules/6df7ae49-c61c-4bb2-a23e-6527e69209ec/lessons/601ae704-1035-4287-8b11-e2c2716217ad/concepts/d4aca031-508f-4e0b-b493-e7b706120f81) feature maps looked like for it's second convolutional layer you could enter conv2 as the tf_activation variable.\n",
    "\n",
    "For an example of what feature map outputs look like, check out NVIDIA's results in their paper [End-to-End Deep Learning for Self-Driving Cars](https://devblogs.nvidia.com/parallelforall/deep-learning-self-driving-cars/) in the section Visualization of internal CNN State. NVIDIA was able to show that their network's inner weights had high activations to road boundary lines by comparing feature maps from an image with a clear path to one without. Try experimenting with a similar test to show that your trained network's weights are looking for interesting features, whether it's looking at differences in feature maps from images with or without a sign, or even what feature maps look like in a trained network vs a completely untrained one on the same sign image.\n",
    "\n",
    "<figure>\n",
    " <img src=\"visualize_cnn.png\" width=\"380\" alt=\"Combined Image\" />\n",
    " <figcaption>\n",
    " <p></p> \n",
    " <p style=\"text-align: center;\"> Your output should look something like this (above)</p> \n",
    " </figcaption>\n",
    "</figure>\n",
    " <p></p> \n"
   ]
  },
  {
   "cell_type": "code",
   "execution_count": null,
   "metadata": {
    "collapsed": true
   },
   "outputs": [],
   "source": [
    "### Visualize your network's feature maps here.\n",
    "### Feel free to use as many code cells as needed.\n",
    "\n",
    "# image_input: the test image being fed into the network to produce the feature maps\n",
    "# tf_activation: should be a tf variable name used during your training procedure that represents the calculated state of a specific weight layer\n",
    "# activation_min/max: can be used to view the activation contrast in more detail, by default matplot sets min and max to the actual min and max values of the output\n",
    "# plt_num: used to plot out multiple different weight feature map sets on the same block, just extend the plt number for each new feature map entry\n",
    "\n",
    "def outputFeatureMap(image_input, tf_activation, activation_min=-1, activation_max=-1 ,plt_num=1):\n",
    "    # Here make sure to preprocess your image_input in a way your network expects\n",
    "    # with size, normalization, ect if needed\n",
    "    # image_input =\n",
    "    # Note: x should be the same name as your network's tensorflow data placeholder variable\n",
    "    # If you get an error tf_activation is not defined it may be having trouble accessing the variable from inside a function\n",
    "    activation = tf_activation.eval(session=sess,feed_dict={x : image_input})\n",
    "    featuremaps = activation.shape[3]\n",
    "    plt.figure(plt_num, figsize=(15,15))\n",
    "    for featuremap in range(featuremaps):\n",
    "        plt.subplot(6,8, featuremap+1) # sets the number of feature maps to show on each row and column\n",
    "        plt.title('FeatureMap ' + str(featuremap)) # displays the feature map number\n",
    "        if activation_min != -1 & activation_max != -1:\n",
    "            plt.imshow(activation[0,:,:, featuremap], interpolation=\"nearest\", vmin =activation_min, vmax=activation_max, cmap=\"gray\")\n",
    "        elif activation_max != -1:\n",
    "            plt.imshow(activation[0,:,:, featuremap], interpolation=\"nearest\", vmax=activation_max, cmap=\"gray\")\n",
    "        elif activation_min !=-1:\n",
    "            plt.imshow(activation[0,:,:, featuremap], interpolation=\"nearest\", vmin=activation_min, cmap=\"gray\")\n",
    "        else:\n",
    "            plt.imshow(activation[0,:,:, featuremap], interpolation=\"nearest\", cmap=\"gray\")"
   ]
  }
 ],
 "metadata": {
  "anaconda-cloud": {},
  "kernelspec": {
   "display_name": "Python 3",
   "language": "python",
   "name": "python3"
  },
  "language_info": {
   "codemirror_mode": {
    "name": "ipython",
    "version": 3
   },
   "file_extension": ".py",
   "mimetype": "text/x-python",
   "name": "python",
   "nbconvert_exporter": "python",
   "pygments_lexer": "ipython3",
   "version": "3.5.2"
  }
 },
 "nbformat": 4,
 "nbformat_minor": 1
}
